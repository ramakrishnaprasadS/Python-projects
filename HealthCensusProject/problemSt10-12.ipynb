{
 "cells": [
  {
   "cell_type": "code",
   "execution_count": 3,
   "metadata": {},
   "outputs": [],
   "source": [
    "import pandas as pd\n",
    "import numpy as np\n",
    "import matplotlib.pyplot as plt"
   ]
  },
  {
   "cell_type": "code",
   "execution_count": 4,
   "metadata": {},
   "outputs": [],
   "source": [
    "#Clean and gain Insights from the Hospital Data\n",
    "# Aliah, as a representative of the department, is willing to know if any insights can be gained from the Hospital data (Data/hospitals.csv). \n",
    "# Apart from general information she wants to know which states need more hospital beds at the earliest.\n",
    "\n",
    "# Assist Aliah to gain insights from the data after cleaning it\n"
   ]
  },
  {
   "cell_type": "code",
   "execution_count": 5,
   "metadata": {},
   "outputs": [],
   "source": [
    "#Problem Statement 10: (Fix the header)\n",
    "# Import the hospital data from Data/hospitals.csv and make the necessary changes to the header (Do not change the original file). \n",
    "# The header uses acronyms that are defined in metadata.csv. Find the data and rename the headers so that it is more understandable to \n",
    "# users who are not familiar with the acronyms. The First cell in the header is missing which should be renamed to State/UT. \n",
    "# Rename the other headers in a uniform format.\n",
    "\n",
    "# Acronyms\n",
    "# \"Number of Primary Health Centers(PHCs), \"\n",
    "# \"Community Health Centers(CHCs), \"\n",
    "# Sub-District/Divisional Hospitals(SDHs)\n",
    "# District Hospitals(DHs) "
   ]
  },
  {
   "cell_type": "code",
   "execution_count": 6,
   "metadata": {},
   "outputs": [
    {
     "data": {
      "text/html": [
       "<div>\n",
       "<style scoped>\n",
       "    .dataframe tbody tr th:only-of-type {\n",
       "        vertical-align: middle;\n",
       "    }\n",
       "\n",
       "    .dataframe tbody tr th {\n",
       "        vertical-align: top;\n",
       "    }\n",
       "\n",
       "    .dataframe thead th {\n",
       "        text-align: right;\n",
       "    }\n",
       "</style>\n",
       "<table border=\"1\" class=\"dataframe\">\n",
       "  <thead>\n",
       "    <tr style=\"text-align: right;\">\n",
       "      <th></th>\n",
       "      <th>Unnamed: 0</th>\n",
       "      <th>PHC</th>\n",
       "      <th>CHC</th>\n",
       "      <th>SDH</th>\n",
       "      <th>DH</th>\n",
       "      <th>Hospitals</th>\n",
       "      <th>HospitalBeds</th>\n",
       "    </tr>\n",
       "  </thead>\n",
       "  <tbody>\n",
       "    <tr>\n",
       "      <th>0</th>\n",
       "      <td>Andaman &amp; Nicobar Islands</td>\n",
       "      <td>27</td>\n",
       "      <td>4</td>\n",
       "      <td>NaN</td>\n",
       "      <td>3</td>\n",
       "      <td>34</td>\n",
       "      <td>1246</td>\n",
       "    </tr>\n",
       "    <tr>\n",
       "      <th>1</th>\n",
       "      <td>Andhra Pradesh</td>\n",
       "      <td>1417</td>\n",
       "      <td>198</td>\n",
       "      <td>31</td>\n",
       "      <td>20</td>\n",
       "      <td>1666</td>\n",
       "      <td>60799</td>\n",
       "    </tr>\n",
       "    <tr>\n",
       "      <th>2</th>\n",
       "      <td>Arunachal Pradesh</td>\n",
       "      <td>122</td>\n",
       "      <td>62</td>\n",
       "      <td>NaN</td>\n",
       "      <td>15</td>\n",
       "      <td>199</td>\n",
       "      <td>2320</td>\n",
       "    </tr>\n",
       "    <tr>\n",
       "      <th>3</th>\n",
       "      <td>Assam</td>\n",
       "      <td>1007</td>\n",
       "      <td>166</td>\n",
       "      <td>14</td>\n",
       "      <td>33</td>\n",
       "      <td>1220</td>\n",
       "      <td>19115</td>\n",
       "    </tr>\n",
       "    <tr>\n",
       "      <th>4</th>\n",
       "      <td>Bihar</td>\n",
       "      <td>2007</td>\n",
       "      <td>63</td>\n",
       "      <td>33</td>\n",
       "      <td>43</td>\n",
       "      <td>2146</td>\n",
       "      <td>17796</td>\n",
       "    </tr>\n",
       "  </tbody>\n",
       "</table>\n",
       "</div>"
      ],
      "text/plain": [
       "                  Unnamed: 0   PHC  CHC  SDH  DH Hospitals HospitalBeds\n",
       "0  Andaman & Nicobar Islands    27    4  NaN   3        34         1246\n",
       "1             Andhra Pradesh  1417  198   31  20      1666        60799\n",
       "2          Arunachal Pradesh   122   62  NaN  15       199         2320\n",
       "3                      Assam  1007  166   14  33      1220        19115\n",
       "4                      Bihar  2007   63   33  43      2146        17796"
      ]
     },
     "execution_count": 6,
     "metadata": {},
     "output_type": "execute_result"
    }
   ],
   "source": [
    "df_hsptl = pd.read_csv('Data/hospitals.csv')\n",
    "df_hsptl.head()"
   ]
  },
  {
   "cell_type": "code",
   "execution_count": 7,
   "metadata": {},
   "outputs": [
    {
     "data": {
      "text/plain": [
       "['Acronyms\\n',\n",
       " '\"Number of Primary Health Centers(PHCs), \"\\n',\n",
       " '\"Community Health Centers(CHCs), \"\\n',\n",
       " 'Sub-District/Divisional Hospitals(SDHs)\\n',\n",
       " 'District Hospitals(DHs) \\n']"
      ]
     },
     "execution_count": 7,
     "metadata": {},
     "output_type": "execute_result"
    }
   ],
   "source": [
    "# extracting new col names from metadata.csv file\n",
    "with open('Data/metadata.csv') as file:\n",
    "    new_cols = file.readlines()\n",
    "new_cols"
   ]
  },
  {
   "cell_type": "code",
   "execution_count": 8,
   "metadata": {},
   "outputs": [
    {
     "data": {
      "text/plain": [
       "['Number of Primary Health Centers(PHCs)',\n",
       " 'Community Health Centers(CHCs)',\n",
       " 'Sub-District/Divisional Hospitals(SDHs)',\n",
       " 'District Hospitals(DHs)']"
      ]
     },
     "execution_count": 8,
     "metadata": {},
     "output_type": "execute_result"
    }
   ],
   "source": [
    "# stripping the col names to get rid of \\n, ',' and extra spaces\n",
    "new_cols = [i.strip().strip('\"').replace(', ','') for i in new_cols[1:]]\n",
    "new_cols"
   ]
  },
  {
   "cell_type": "code",
   "execution_count": 9,
   "metadata": {},
   "outputs": [
    {
     "data": {
      "text/plain": [
       "{'Unnamed: 0': 'State/UT',\n",
       " 'PHC': 'Number of Primary Health Centers(PHCs)',\n",
       " 'CHC': 'Community Health Centers(CHCs)',\n",
       " 'SDH': 'Sub-District/Divisional Hospitals(SDHs)',\n",
       " 'DH': 'District Hospitals(DHs)'}"
      ]
     },
     "execution_count": 9,
     "metadata": {},
     "output_type": "execute_result"
    }
   ],
   "source": [
    "# mapping the old names to the new col names\n",
    "renamed_cols = {\n",
    "    i:j for i,j in zip(df_hsptl.columns[:5], ['State/UT']+new_cols,)\n",
    "}\n",
    "renamed_cols"
   ]
  },
  {
   "cell_type": "code",
   "execution_count": 10,
   "metadata": {},
   "outputs": [
    {
     "data": {
      "text/html": [
       "<div>\n",
       "<style scoped>\n",
       "    .dataframe tbody tr th:only-of-type {\n",
       "        vertical-align: middle;\n",
       "    }\n",
       "\n",
       "    .dataframe tbody tr th {\n",
       "        vertical-align: top;\n",
       "    }\n",
       "\n",
       "    .dataframe thead th {\n",
       "        text-align: right;\n",
       "    }\n",
       "</style>\n",
       "<table border=\"1\" class=\"dataframe\">\n",
       "  <thead>\n",
       "    <tr style=\"text-align: right;\">\n",
       "      <th></th>\n",
       "      <th>State/UT</th>\n",
       "      <th>Number of Primary Health Centers(PHCs)</th>\n",
       "      <th>Community Health Centers(CHCs)</th>\n",
       "      <th>Sub-District/Divisional Hospitals(SDHs)</th>\n",
       "      <th>District Hospitals(DHs)</th>\n",
       "      <th>Hospitals</th>\n",
       "      <th>HospitalBeds</th>\n",
       "    </tr>\n",
       "  </thead>\n",
       "  <tbody>\n",
       "    <tr>\n",
       "      <th>0</th>\n",
       "      <td>Andaman &amp; Nicobar Islands</td>\n",
       "      <td>27</td>\n",
       "      <td>4</td>\n",
       "      <td>NaN</td>\n",
       "      <td>3</td>\n",
       "      <td>34</td>\n",
       "      <td>1246</td>\n",
       "    </tr>\n",
       "    <tr>\n",
       "      <th>1</th>\n",
       "      <td>Andhra Pradesh</td>\n",
       "      <td>1417</td>\n",
       "      <td>198</td>\n",
       "      <td>31</td>\n",
       "      <td>20</td>\n",
       "      <td>1666</td>\n",
       "      <td>60799</td>\n",
       "    </tr>\n",
       "    <tr>\n",
       "      <th>2</th>\n",
       "      <td>Arunachal Pradesh</td>\n",
       "      <td>122</td>\n",
       "      <td>62</td>\n",
       "      <td>NaN</td>\n",
       "      <td>15</td>\n",
       "      <td>199</td>\n",
       "      <td>2320</td>\n",
       "    </tr>\n",
       "    <tr>\n",
       "      <th>3</th>\n",
       "      <td>Assam</td>\n",
       "      <td>1007</td>\n",
       "      <td>166</td>\n",
       "      <td>14</td>\n",
       "      <td>33</td>\n",
       "      <td>1220</td>\n",
       "      <td>19115</td>\n",
       "    </tr>\n",
       "    <tr>\n",
       "      <th>4</th>\n",
       "      <td>Bihar</td>\n",
       "      <td>2007</td>\n",
       "      <td>63</td>\n",
       "      <td>33</td>\n",
       "      <td>43</td>\n",
       "      <td>2146</td>\n",
       "      <td>17796</td>\n",
       "    </tr>\n",
       "  </tbody>\n",
       "</table>\n",
       "</div>"
      ],
      "text/plain": [
       "                    State/UT Number of Primary Health Centers(PHCs)  \\\n",
       "0  Andaman & Nicobar Islands                                     27   \n",
       "1             Andhra Pradesh                                   1417   \n",
       "2          Arunachal Pradesh                                    122   \n",
       "3                      Assam                                   1007   \n",
       "4                      Bihar                                   2007   \n",
       "\n",
       "  Community Health Centers(CHCs) Sub-District/Divisional Hospitals(SDHs)  \\\n",
       "0                              4                                     NaN   \n",
       "1                            198                                      31   \n",
       "2                             62                                     NaN   \n",
       "3                            166                                      14   \n",
       "4                             63                                      33   \n",
       "\n",
       "  District Hospitals(DHs) Hospitals HospitalBeds  \n",
       "0                       3        34         1246  \n",
       "1                      20      1666        60799  \n",
       "2                      15       199         2320  \n",
       "3                      33      1220        19115  \n",
       "4                      43      2146        17796  "
      ]
     },
     "execution_count": 10,
     "metadata": {},
     "output_type": "execute_result"
    }
   ],
   "source": [
    "# renaming the cols in the df\n",
    "df_hsptl = df_hsptl.rename(columns=renamed_cols)\n",
    "df_hsptl.head()"
   ]
  },
  {
   "cell_type": "code",
   "execution_count": 11,
   "metadata": {},
   "outputs": [],
   "source": [
    "# Problem Statement 11: (Create a function to alter the data to create uniformity)\n",
    "# The State/UT names have some different formats compared to other census and housing data. \n",
    "# Manually identify those differences and fix them so that the State/UT names match exactly with the census and housing data.\n",
    "\n",
    "# A function should be created to perform this operation. Since the same operation is required for another dataset as well.\n",
    "\n",
    "# After the process save the data in a CSV file named “all_hospitals.csv” in the “Clean_Data” folder"
   ]
  },
  {
   "cell_type": "code",
   "execution_count": 12,
   "metadata": {},
   "outputs": [
    {
     "data": {
      "text/html": [
       "<div>\n",
       "<style scoped>\n",
       "    .dataframe tbody tr th:only-of-type {\n",
       "        vertical-align: middle;\n",
       "    }\n",
       "\n",
       "    .dataframe tbody tr th {\n",
       "        vertical-align: top;\n",
       "    }\n",
       "\n",
       "    .dataframe thead th {\n",
       "        text-align: right;\n",
       "    }\n",
       "</style>\n",
       "<table border=\"1\" class=\"dataframe\">\n",
       "  <thead>\n",
       "    <tr style=\"text-align: right;\">\n",
       "      <th></th>\n",
       "      <th>State/UT</th>\n",
       "      <th>District</th>\n",
       "      <th>Population</th>\n",
       "      <th>Male</th>\n",
       "      <th>Female</th>\n",
       "      <th>Literate</th>\n",
       "      <th>Literate_Male</th>\n",
       "      <th>Literate_Female</th>\n",
       "      <th>Households_Rural</th>\n",
       "      <th>Urban_Households</th>\n",
       "      <th>Households</th>\n",
       "      <th>Young_and_Adult</th>\n",
       "      <th>Middle_Aged</th>\n",
       "      <th>Senior_Citizen</th>\n",
       "      <th>Age_Not_Stated</th>\n",
       "    </tr>\n",
       "  </thead>\n",
       "  <tbody>\n",
       "    <tr>\n",
       "      <th>0</th>\n",
       "      <td>JAMMU AND KASHMIR</td>\n",
       "      <td>Kupwara</td>\n",
       "      <td>870354.0</td>\n",
       "      <td>474190.0</td>\n",
       "      <td>396164.0</td>\n",
       "      <td>439654.0</td>\n",
       "      <td>282823.0</td>\n",
       "      <td>156831.0</td>\n",
       "      <td>158438.0</td>\n",
       "      <td>NaN</td>\n",
       "      <td>181664.0</td>\n",
       "      <td>600759.0</td>\n",
       "      <td>178435.0</td>\n",
       "      <td>89679.0</td>\n",
       "      <td>1481.0</td>\n",
       "    </tr>\n",
       "    <tr>\n",
       "      <th>1</th>\n",
       "      <td>JAMMU AND KASHMIR</td>\n",
       "      <td>Badgam</td>\n",
       "      <td>753745.0</td>\n",
       "      <td>NaN</td>\n",
       "      <td>355704.0</td>\n",
       "      <td>335649.0</td>\n",
       "      <td>207741.0</td>\n",
       "      <td>127908.0</td>\n",
       "      <td>160649.0</td>\n",
       "      <td>27190.0</td>\n",
       "      <td>187839.0</td>\n",
       "      <td>503223.0</td>\n",
       "      <td>160933.0</td>\n",
       "      <td>88978.0</td>\n",
       "      <td>611.0</td>\n",
       "    </tr>\n",
       "    <tr>\n",
       "      <th>2</th>\n",
       "      <td>LADDAKH</td>\n",
       "      <td>Leh(Ladakh)</td>\n",
       "      <td>133487.0</td>\n",
       "      <td>78971.0</td>\n",
       "      <td>54516.0</td>\n",
       "      <td>93770.0</td>\n",
       "      <td>62834.0</td>\n",
       "      <td>30936.0</td>\n",
       "      <td>36920.0</td>\n",
       "      <td>17474.0</td>\n",
       "      <td>54394.0</td>\n",
       "      <td>70703.0</td>\n",
       "      <td>41515.0</td>\n",
       "      <td>NaN</td>\n",
       "      <td>250.0</td>\n",
       "    </tr>\n",
       "    <tr>\n",
       "      <th>3</th>\n",
       "      <td>LADDAKH</td>\n",
       "      <td>Kargil</td>\n",
       "      <td>140802.0</td>\n",
       "      <td>NaN</td>\n",
       "      <td>63017.0</td>\n",
       "      <td>86236.0</td>\n",
       "      <td>56301.0</td>\n",
       "      <td>29935.0</td>\n",
       "      <td>40370.0</td>\n",
       "      <td>7774.0</td>\n",
       "      <td>48144.0</td>\n",
       "      <td>87532.0</td>\n",
       "      <td>35561.0</td>\n",
       "      <td>17488.0</td>\n",
       "      <td>221.0</td>\n",
       "    </tr>\n",
       "    <tr>\n",
       "      <th>4</th>\n",
       "      <td>JAMMU AND KASHMIR</td>\n",
       "      <td>Punch</td>\n",
       "      <td>476835.0</td>\n",
       "      <td>251899.0</td>\n",
       "      <td>224936.0</td>\n",
       "      <td>261724.0</td>\n",
       "      <td>163333.0</td>\n",
       "      <td>98391.0</td>\n",
       "      <td>132139.0</td>\n",
       "      <td>15269.0</td>\n",
       "      <td>147408.0</td>\n",
       "      <td>304979.0</td>\n",
       "      <td>109818.0</td>\n",
       "      <td>61334.0</td>\n",
       "      <td>704.0</td>\n",
       "    </tr>\n",
       "  </tbody>\n",
       "</table>\n",
       "</div>"
      ],
      "text/plain": [
       "            State/UT     District  Population      Male    Female  Literate  \\\n",
       "0  JAMMU AND KASHMIR      Kupwara    870354.0  474190.0  396164.0  439654.0   \n",
       "1  JAMMU AND KASHMIR       Badgam    753745.0       NaN  355704.0  335649.0   \n",
       "2            LADDAKH  Leh(Ladakh)    133487.0   78971.0   54516.0   93770.0   \n",
       "3            LADDAKH       Kargil    140802.0       NaN   63017.0   86236.0   \n",
       "4  JAMMU AND KASHMIR        Punch    476835.0  251899.0  224936.0  261724.0   \n",
       "\n",
       "   Literate_Male  Literate_Female  Households_Rural  Urban_Households  \\\n",
       "0       282823.0         156831.0          158438.0               NaN   \n",
       "1       207741.0         127908.0          160649.0           27190.0   \n",
       "2        62834.0          30936.0           36920.0           17474.0   \n",
       "3        56301.0          29935.0           40370.0            7774.0   \n",
       "4       163333.0          98391.0          132139.0           15269.0   \n",
       "\n",
       "   Households  Young_and_Adult  Middle_Aged  Senior_Citizen  Age_Not_Stated  \n",
       "0    181664.0         600759.0     178435.0         89679.0          1481.0  \n",
       "1    187839.0         503223.0     160933.0         88978.0           611.0  \n",
       "2     54394.0          70703.0      41515.0             NaN           250.0  \n",
       "3     48144.0          87532.0      35561.0         17488.0           221.0  \n",
       "4    147408.0         304979.0     109818.0         61334.0           704.0  "
      ]
     },
     "execution_count": 12,
     "metadata": {},
     "output_type": "execute_result"
    }
   ],
   "source": [
    "df_cln_census = pd.read_csv('CleanData/fine_census.csv')\n",
    "df_cln_census.head()"
   ]
  },
  {
   "cell_type": "code",
   "execution_count": 13,
   "metadata": {},
   "outputs": [
    {
     "data": {
      "text/plain": [
       "0     Andaman & Nicobar Islands\n",
       "7          Dadra & Nagar Haveli\n",
       "8                   Daman & Diu\n",
       "14              Jammu & Kashmir\n",
       "31                    Telangana\n",
       "36                    All India\n",
       "Name: State/UT, dtype: object"
      ]
     },
     "execution_count": 13,
     "metadata": {},
     "output_type": "execute_result"
    }
   ],
   "source": [
    "mis_matched_sts = df_hsptl[~df_hsptl['State/UT'].apply(lambda x: x.upper()).isin(df_cln_census['State/UT'].unique())]['State/UT']\n",
    "mis_matched_sts"
   ]
  },
  {
   "cell_type": "code",
   "execution_count": 14,
   "metadata": {},
   "outputs": [],
   "source": [
    "def update_st_ut(df):\n",
    "    df = df.apply(lambda x:  x.upper().replace('&', 'AND') \n",
    "                            if x.upper().replace('&', 'AND') in df_cln_census['State/UT'].unique()\n",
    "                            else x.upper())\n",
    "    return df"
   ]
  },
  {
   "cell_type": "code",
   "execution_count": 15,
   "metadata": {},
   "outputs": [
    {
     "data": {
      "text/html": [
       "<div>\n",
       "<style scoped>\n",
       "    .dataframe tbody tr th:only-of-type {\n",
       "        vertical-align: middle;\n",
       "    }\n",
       "\n",
       "    .dataframe tbody tr th {\n",
       "        vertical-align: top;\n",
       "    }\n",
       "\n",
       "    .dataframe thead th {\n",
       "        text-align: right;\n",
       "    }\n",
       "</style>\n",
       "<table border=\"1\" class=\"dataframe\">\n",
       "  <thead>\n",
       "    <tr style=\"text-align: right;\">\n",
       "      <th></th>\n",
       "      <th>State/UT</th>\n",
       "      <th>Number of Primary Health Centers(PHCs)</th>\n",
       "      <th>Community Health Centers(CHCs)</th>\n",
       "      <th>Sub-District/Divisional Hospitals(SDHs)</th>\n",
       "      <th>District Hospitals(DHs)</th>\n",
       "      <th>Hospitals</th>\n",
       "      <th>HospitalBeds</th>\n",
       "    </tr>\n",
       "  </thead>\n",
       "  <tbody>\n",
       "    <tr>\n",
       "      <th>0</th>\n",
       "      <td>ANDAMAN AND NICOBAR ISLANDS</td>\n",
       "      <td>27</td>\n",
       "      <td>4</td>\n",
       "      <td>NaN</td>\n",
       "      <td>3</td>\n",
       "      <td>34</td>\n",
       "      <td>1246</td>\n",
       "    </tr>\n",
       "    <tr>\n",
       "      <th>1</th>\n",
       "      <td>ANDHRA PRADESH</td>\n",
       "      <td>1417</td>\n",
       "      <td>198</td>\n",
       "      <td>31</td>\n",
       "      <td>20</td>\n",
       "      <td>1666</td>\n",
       "      <td>60799</td>\n",
       "    </tr>\n",
       "    <tr>\n",
       "      <th>2</th>\n",
       "      <td>ARUNACHAL PRADESH</td>\n",
       "      <td>122</td>\n",
       "      <td>62</td>\n",
       "      <td>NaN</td>\n",
       "      <td>15</td>\n",
       "      <td>199</td>\n",
       "      <td>2320</td>\n",
       "    </tr>\n",
       "    <tr>\n",
       "      <th>3</th>\n",
       "      <td>ASSAM</td>\n",
       "      <td>1007</td>\n",
       "      <td>166</td>\n",
       "      <td>14</td>\n",
       "      <td>33</td>\n",
       "      <td>1220</td>\n",
       "      <td>19115</td>\n",
       "    </tr>\n",
       "    <tr>\n",
       "      <th>4</th>\n",
       "      <td>BIHAR</td>\n",
       "      <td>2007</td>\n",
       "      <td>63</td>\n",
       "      <td>33</td>\n",
       "      <td>43</td>\n",
       "      <td>2146</td>\n",
       "      <td>17796</td>\n",
       "    </tr>\n",
       "  </tbody>\n",
       "</table>\n",
       "</div>"
      ],
      "text/plain": [
       "                      State/UT Number of Primary Health Centers(PHCs)  \\\n",
       "0  ANDAMAN AND NICOBAR ISLANDS                                     27   \n",
       "1               ANDHRA PRADESH                                   1417   \n",
       "2            ARUNACHAL PRADESH                                    122   \n",
       "3                        ASSAM                                   1007   \n",
       "4                        BIHAR                                   2007   \n",
       "\n",
       "  Community Health Centers(CHCs) Sub-District/Divisional Hospitals(SDHs)  \\\n",
       "0                              4                                     NaN   \n",
       "1                            198                                      31   \n",
       "2                             62                                     NaN   \n",
       "3                            166                                      14   \n",
       "4                             63                                      33   \n",
       "\n",
       "  District Hospitals(DHs) Hospitals HospitalBeds  \n",
       "0                       3        34         1246  \n",
       "1                      20      1666        60799  \n",
       "2                      15       199         2320  \n",
       "3                      33      1220        19115  \n",
       "4                      43      2146        17796  "
      ]
     },
     "execution_count": 15,
     "metadata": {},
     "output_type": "execute_result"
    }
   ],
   "source": [
    "# raplacing & with 'AND' and converting name to upper case\n",
    "df_hsptl['State/UT'] = update_st_ut(df_hsptl['State/UT'])\n",
    "df_hsptl.head()"
   ]
  },
  {
   "cell_type": "code",
   "execution_count": 16,
   "metadata": {},
   "outputs": [
    {
     "data": {
      "text/plain": [
       "31    TELANGANA\n",
       "36    ALL INDIA\n",
       "Name: State/UT, dtype: object"
      ]
     },
     "execution_count": 16,
     "metadata": {},
     "output_type": "execute_result"
    }
   ],
   "source": [
    "# check still if there are any mis matched names in state/ut\n",
    "df_hsptl[~df_hsptl['State/UT'].apply(lambda x: x.upper()).isin(df_cln_census['State/UT'].unique())]['State/UT']"
   ]
  },
  {
   "cell_type": "code",
   "execution_count": 17,
   "metadata": {},
   "outputs": [
    {
     "data": {
      "text/plain": [
       "array(['ANDAMAN AND NICOBAR ISLANDS', 'ANDHRA PRADESH',\n",
       "       'ARUNACHAL PRADESH', 'ASSAM', 'BIHAR', 'CHANDIGARH',\n",
       "       'CHHATTISGARH', 'DADRA AND NAGAR HAVELI', 'DAMAN AND DIU', 'DELHI',\n",
       "       'GOA', 'GUJARAT', 'HARYANA', 'HIMACHAL PRADESH',\n",
       "       'JAMMU AND KASHMIR', 'JHARKHAND', 'KARNATAKA', 'KERALA',\n",
       "       'LAKSHADWEEP', 'MADHYA PRADESH', 'MAHARASHTRA', 'MANIPUR',\n",
       "       'MEGHALAYA', 'MIZORAM', 'NAGALAND', 'ODISHA', 'PUDUCHERRY',\n",
       "       'PUNJAB', 'RAJASTHAN', 'SIKKIM', 'TAMIL NADU', 'TELANGANA',\n",
       "       'TRIPURA', 'UTTAR PRADESH', 'UTTARAKHAND', 'WEST BENGAL',\n",
       "       'ALL INDIA'], dtype=object)"
      ]
     },
     "execution_count": 17,
     "metadata": {},
     "output_type": "execute_result"
    }
   ],
   "source": [
    "df_hsptl['State/UT'].unique()"
   ]
  },
  {
   "cell_type": "code",
   "execution_count": 18,
   "metadata": {},
   "outputs": [
    {
     "name": "stdout",
     "output_type": "stream",
     "text": [
      "<class 'pandas.core.frame.DataFrame'>\n",
      "RangeIndex: 37 entries, 0 to 36\n",
      "Data columns (total 7 columns):\n",
      " #   Column                                   Non-Null Count  Dtype \n",
      "---  ------                                   --------------  ----- \n",
      " 0   State/UT                                 37 non-null     object\n",
      " 1   Number of Primary Health Centers(PHCs)   37 non-null     object\n",
      " 2   Community Health Centers(CHCs)           37 non-null     object\n",
      " 3   Sub-District/Divisional Hospitals(SDHs)  30 non-null     object\n",
      " 4   District Hospitals(DHs)                  37 non-null     object\n",
      " 5   Hospitals                                37 non-null     object\n",
      " 6   HospitalBeds                             37 non-null     object\n",
      "dtypes: object(7)\n",
      "memory usage: 2.1+ KB\n"
     ]
    }
   ],
   "source": [
    "df_hsptl.info()"
   ]
  },
  {
   "cell_type": "code",
   "execution_count": 19,
   "metadata": {},
   "outputs": [],
   "source": [
    "# df_hsptl['Number of Primary Health Centers(PHCs)'] = df_hsptl['Number of Primary Health Centers(PHCs)'].apply(lambda x: int(x.replace(',','')))\n",
    "# df_hsptl['Community Health Centers(CHCs)'] = df_hsptl['Community Health Centers(CHCs)'].apply(lambda x: int(x.replace(',','')))\n",
    "# df_hsptl['Sub-District/Divisional Hospitals(SDHs)'] = df_hsptl['Sub-District/Divisional Hospitals(SDHs)'].apply(lambda x: int(x.replace(',','')))\n",
    "\n",
    "# df_hsptl.iloc[:,1:].apply(lambda x: \";\".join(x),axis=1)"
   ]
  },
  {
   "cell_type": "code",
   "execution_count": 20,
   "metadata": {},
   "outputs": [],
   "source": [
    "save_path = 'CleanData/fine_hospitals.csv' \n",
    "df_hsptl.to_csv(save_path, index=False)"
   ]
  },
  {
   "cell_type": "code",
   "execution_count": 21,
   "metadata": {},
   "outputs": [],
   "source": [
    "# Problem Statement 12: (Analyze Healthcare facility disparity)\n",
    "# Visually represent how many hospital beds are there for every 10,000 people in each state or union territory. \n",
    "# The national value should also be represented in the same visualization such that the value for each state can be compared to it.\n"
   ]
  },
  {
   "cell_type": "code",
   "execution_count": 22,
   "metadata": {},
   "outputs": [
    {
     "data": {
      "text/html": [
       "<div>\n",
       "<style scoped>\n",
       "    .dataframe tbody tr th:only-of-type {\n",
       "        vertical-align: middle;\n",
       "    }\n",
       "\n",
       "    .dataframe tbody tr th {\n",
       "        vertical-align: top;\n",
       "    }\n",
       "\n",
       "    .dataframe thead th {\n",
       "        text-align: right;\n",
       "    }\n",
       "</style>\n",
       "<table border=\"1\" class=\"dataframe\">\n",
       "  <thead>\n",
       "    <tr style=\"text-align: right;\">\n",
       "      <th></th>\n",
       "      <th>State/UT</th>\n",
       "      <th>Number of Primary Health Centers(PHCs)</th>\n",
       "      <th>Community Health Centers(CHCs)</th>\n",
       "      <th>Sub-District/Divisional Hospitals(SDHs)</th>\n",
       "      <th>District Hospitals(DHs)</th>\n",
       "      <th>Hospitals</th>\n",
       "      <th>HospitalBeds</th>\n",
       "    </tr>\n",
       "  </thead>\n",
       "  <tbody>\n",
       "    <tr>\n",
       "      <th>36</th>\n",
       "      <td>ALL INDIA</td>\n",
       "      <td>29,899</td>\n",
       "      <td>5,568</td>\n",
       "      <td>1,255</td>\n",
       "      <td>1,003</td>\n",
       "      <td>37,725</td>\n",
       "      <td>7,39,024</td>\n",
       "    </tr>\n",
       "  </tbody>\n",
       "</table>\n",
       "</div>"
      ],
      "text/plain": [
       "     State/UT Number of Primary Health Centers(PHCs)  \\\n",
       "36  ALL INDIA                                 29,899   \n",
       "\n",
       "   Community Health Centers(CHCs) Sub-District/Divisional Hospitals(SDHs)  \\\n",
       "36                          5,568                                   1,255   \n",
       "\n",
       "   District Hospitals(DHs) Hospitals HospitalBeds  \n",
       "36                   1,003    37,725     7,39,024  "
      ]
     },
     "execution_count": 22,
     "metadata": {},
     "output_type": "execute_result"
    }
   ],
   "source": [
    "df_hsptl[df_hsptl['State/UT']=='ALL INDIA']"
   ]
  },
  {
   "cell_type": "code",
   "execution_count": 23,
   "metadata": {},
   "outputs": [
    {
     "name": "stdout",
     "output_type": "stream",
     "text": [
      "<class 'pandas.core.frame.DataFrame'>\n",
      "RangeIndex: 37 entries, 0 to 36\n",
      "Data columns (total 7 columns):\n",
      " #   Column                                   Non-Null Count  Dtype \n",
      "---  ------                                   --------------  ----- \n",
      " 0   State/UT                                 37 non-null     object\n",
      " 1   Number of Primary Health Centers(PHCs)   37 non-null     object\n",
      " 2   Community Health Centers(CHCs)           37 non-null     object\n",
      " 3   Sub-District/Divisional Hospitals(SDHs)  30 non-null     object\n",
      " 4   District Hospitals(DHs)                  37 non-null     object\n",
      " 5   Hospitals                                37 non-null     object\n",
      " 6   HospitalBeds                             37 non-null     object\n",
      "dtypes: object(7)\n",
      "memory usage: 2.1+ KB\n"
     ]
    }
   ],
   "source": [
    "df_hsptl.info()"
   ]
  },
  {
   "cell_type": "code",
   "execution_count": 24,
   "metadata": {},
   "outputs": [],
   "source": [
    "df_hsptl['HospitalBeds'] = df_hsptl['HospitalBeds'].apply(lambda x: x.replace(',','')).astype(int)"
   ]
  },
  {
   "cell_type": "code",
   "execution_count": 25,
   "metadata": {},
   "outputs": [
    {
     "data": {
      "text/plain": [
       "(38, 38)"
      ]
     },
     "execution_count": 25,
     "metadata": {},
     "output_type": "execute_result"
    }
   ],
   "source": [
    "# creating a new dataframe with requered data - state/ut, population/10000, beds\n",
    "beds = []\n",
    "pop = []\n",
    "for i,j in enumerate(df_cln_census.groupby('State/UT').sum('Populaton')['Population']):\n",
    "    beds.append(df_hsptl.loc[i,'HospitalBeds'])\n",
    "    pop.append(round(j/10000))\n",
    "beds.append(df_hsptl.loc[36,'HospitalBeds'])\n",
    "pop.append(round(sum(pop)))\n",
    "len(beds),len(pop)"
   ]
  },
  {
   "cell_type": "code",
   "execution_count": 26,
   "metadata": {},
   "outputs": [
    {
     "ename": "ValueError",
     "evalue": "Length of values (38) does not match length of index (37)",
     "output_type": "error",
     "traceback": [
      "\u001b[1;31m---------------------------------------------------------------------------\u001b[0m",
      "\u001b[1;31mValueError\u001b[0m                                Traceback (most recent call last)",
      "Cell \u001b[1;32mIn[26], line 3\u001b[0m\n\u001b[0;32m      1\u001b[0m df_BedvsPop \u001b[39m=\u001b[39m pd\u001b[39m.\u001b[39mDataFrame()\n\u001b[0;32m      2\u001b[0m df_BedvsPop[\u001b[39m'\u001b[39m\u001b[39mState/UT\u001b[39m\u001b[39m'\u001b[39m] \u001b[39m=\u001b[39m df_hsptl[\u001b[39m'\u001b[39m\u001b[39mState/UT\u001b[39m\u001b[39m'\u001b[39m]\n\u001b[1;32m----> 3\u001b[0m df_BedvsPop[\u001b[39m'\u001b[39;49m\u001b[39mPopulation\u001b[39;49m\u001b[39m'\u001b[39;49m] \u001b[39m=\u001b[39m pop\n\u001b[0;32m      4\u001b[0m df_BedvsPop[\u001b[39m'\u001b[39m\u001b[39mBeds\u001b[39m\u001b[39m'\u001b[39m] \u001b[39m=\u001b[39m beds\n\u001b[0;32m      5\u001b[0m df_BedvsPop\u001b[39m.\u001b[39mhead()\n",
      "File \u001b[1;32mc:\\Users\\miles\\AppData\\Local\\Programs\\Python\\Python310\\lib\\site-packages\\pandas\\core\\frame.py:3980\u001b[0m, in \u001b[0;36mDataFrame.__setitem__\u001b[1;34m(self, key, value)\u001b[0m\n\u001b[0;32m   3977\u001b[0m     \u001b[39mself\u001b[39m\u001b[39m.\u001b[39m_setitem_array([key], value)\n\u001b[0;32m   3978\u001b[0m \u001b[39melse\u001b[39;00m:\n\u001b[0;32m   3979\u001b[0m     \u001b[39m# set column\u001b[39;00m\n\u001b[1;32m-> 3980\u001b[0m     \u001b[39mself\u001b[39;49m\u001b[39m.\u001b[39;49m_set_item(key, value)\n",
      "File \u001b[1;32mc:\\Users\\miles\\AppData\\Local\\Programs\\Python\\Python310\\lib\\site-packages\\pandas\\core\\frame.py:4174\u001b[0m, in \u001b[0;36mDataFrame._set_item\u001b[1;34m(self, key, value)\u001b[0m\n\u001b[0;32m   4164\u001b[0m \u001b[39mdef\u001b[39;00m \u001b[39m_set_item\u001b[39m(\u001b[39mself\u001b[39m, key, value) \u001b[39m-\u001b[39m\u001b[39m>\u001b[39m \u001b[39mNone\u001b[39;00m:\n\u001b[0;32m   4165\u001b[0m \u001b[39m    \u001b[39m\u001b[39m\"\"\"\u001b[39;00m\n\u001b[0;32m   4166\u001b[0m \u001b[39m    Add series to DataFrame in specified column.\u001b[39;00m\n\u001b[0;32m   4167\u001b[0m \n\u001b[1;32m   (...)\u001b[0m\n\u001b[0;32m   4172\u001b[0m \u001b[39m    ensure homogeneity.\u001b[39;00m\n\u001b[0;32m   4173\u001b[0m \u001b[39m    \"\"\"\u001b[39;00m\n\u001b[1;32m-> 4174\u001b[0m     value \u001b[39m=\u001b[39m \u001b[39mself\u001b[39;49m\u001b[39m.\u001b[39;49m_sanitize_column(value)\n\u001b[0;32m   4176\u001b[0m     \u001b[39mif\u001b[39;00m (\n\u001b[0;32m   4177\u001b[0m         key \u001b[39min\u001b[39;00m \u001b[39mself\u001b[39m\u001b[39m.\u001b[39mcolumns\n\u001b[0;32m   4178\u001b[0m         \u001b[39mand\u001b[39;00m value\u001b[39m.\u001b[39mndim \u001b[39m==\u001b[39m \u001b[39m1\u001b[39m\n\u001b[0;32m   4179\u001b[0m         \u001b[39mand\u001b[39;00m \u001b[39mnot\u001b[39;00m is_extension_array_dtype(value)\n\u001b[0;32m   4180\u001b[0m     ):\n\u001b[0;32m   4181\u001b[0m         \u001b[39m# broadcast across multiple columns if necessary\u001b[39;00m\n\u001b[0;32m   4182\u001b[0m         \u001b[39mif\u001b[39;00m \u001b[39mnot\u001b[39;00m \u001b[39mself\u001b[39m\u001b[39m.\u001b[39mcolumns\u001b[39m.\u001b[39mis_unique \u001b[39mor\u001b[39;00m \u001b[39misinstance\u001b[39m(\u001b[39mself\u001b[39m\u001b[39m.\u001b[39mcolumns, MultiIndex):\n",
      "File \u001b[1;32mc:\\Users\\miles\\AppData\\Local\\Programs\\Python\\Python310\\lib\\site-packages\\pandas\\core\\frame.py:4915\u001b[0m, in \u001b[0;36mDataFrame._sanitize_column\u001b[1;34m(self, value)\u001b[0m\n\u001b[0;32m   4912\u001b[0m     \u001b[39mreturn\u001b[39;00m _reindex_for_setitem(Series(value), \u001b[39mself\u001b[39m\u001b[39m.\u001b[39mindex)\n\u001b[0;32m   4914\u001b[0m \u001b[39mif\u001b[39;00m is_list_like(value):\n\u001b[1;32m-> 4915\u001b[0m     com\u001b[39m.\u001b[39;49mrequire_length_match(value, \u001b[39mself\u001b[39;49m\u001b[39m.\u001b[39;49mindex)\n\u001b[0;32m   4916\u001b[0m \u001b[39mreturn\u001b[39;00m sanitize_array(value, \u001b[39mself\u001b[39m\u001b[39m.\u001b[39mindex, copy\u001b[39m=\u001b[39m\u001b[39mTrue\u001b[39;00m, allow_2d\u001b[39m=\u001b[39m\u001b[39mTrue\u001b[39;00m)\n",
      "File \u001b[1;32mc:\\Users\\miles\\AppData\\Local\\Programs\\Python\\Python310\\lib\\site-packages\\pandas\\core\\common.py:571\u001b[0m, in \u001b[0;36mrequire_length_match\u001b[1;34m(data, index)\u001b[0m\n\u001b[0;32m    567\u001b[0m \u001b[39m\u001b[39m\u001b[39m\"\"\"\u001b[39;00m\n\u001b[0;32m    568\u001b[0m \u001b[39mCheck the length of data matches the length of the index.\u001b[39;00m\n\u001b[0;32m    569\u001b[0m \u001b[39m\"\"\"\u001b[39;00m\n\u001b[0;32m    570\u001b[0m \u001b[39mif\u001b[39;00m \u001b[39mlen\u001b[39m(data) \u001b[39m!=\u001b[39m \u001b[39mlen\u001b[39m(index):\n\u001b[1;32m--> 571\u001b[0m     \u001b[39mraise\u001b[39;00m \u001b[39mValueError\u001b[39;00m(\n\u001b[0;32m    572\u001b[0m         \u001b[39m\"\u001b[39m\u001b[39mLength of values \u001b[39m\u001b[39m\"\u001b[39m\n\u001b[0;32m    573\u001b[0m         \u001b[39mf\u001b[39m\u001b[39m\"\u001b[39m\u001b[39m(\u001b[39m\u001b[39m{\u001b[39;00m\u001b[39mlen\u001b[39m(data)\u001b[39m}\u001b[39;00m\u001b[39m) \u001b[39m\u001b[39m\"\u001b[39m\n\u001b[0;32m    574\u001b[0m         \u001b[39m\"\u001b[39m\u001b[39mdoes not match length of index \u001b[39m\u001b[39m\"\u001b[39m\n\u001b[0;32m    575\u001b[0m         \u001b[39mf\u001b[39m\u001b[39m\"\u001b[39m\u001b[39m(\u001b[39m\u001b[39m{\u001b[39;00m\u001b[39mlen\u001b[39m(index)\u001b[39m}\u001b[39;00m\u001b[39m)\u001b[39m\u001b[39m\"\u001b[39m\n\u001b[0;32m    576\u001b[0m     )\n",
      "\u001b[1;31mValueError\u001b[0m: Length of values (38) does not match length of index (37)"
     ]
    }
   ],
   "source": [
    "df_BedvsPop = pd.DataFrame()\n",
    "df_BedvsPop['State/UT'] = df_hsptl['State/UT']\n",
    "df_BedvsPop['Population'] = pop\n",
    "df_BedvsPop['Beds'] = beds\n",
    "df_BedvsPop.head()"
   ]
  },
  {
   "cell_type": "code",
   "execution_count": null,
   "metadata": {},
   "outputs": [],
   "source": [
    "# visualizing the beds/pop for each state\n",
    "# df_BedvsPop = df_BedvsPop.set_index(keys='State/UT')\n",
    "df_BedvsPop.apply(lambda x: x['Beds']/x['Population'],axis=1).plot(kind='bar',figsize=(8,4),)"
   ]
  },
  {
   "cell_type": "code",
   "execution_count": null,
   "metadata": {},
   "outputs": [],
   "source": [
    "df_BedvsPop['BedVsPop'] = df_BedvsPop['Beds']/df_BedvsPop['Population']\n",
    "df_BedvsPop.head()"
   ]
  },
  {
   "cell_type": "code",
   "execution_count": null,
   "metadata": {},
   "outputs": [],
   "source": [
    "# Report three States/UTs which have the least amount of beds for their population so that \n",
    "# more beds can be added to the hospitals in respective states.\n",
    "df_BedvsPop.sort_values('BedVsPop').iloc[:3,:]"
   ]
  }
 ],
 "metadata": {
  "kernelspec": {
   "display_name": "Python 3",
   "language": "python",
   "name": "python3"
  },
  "language_info": {
   "codemirror_mode": {
    "name": "ipython",
    "version": 3
   },
   "file_extension": ".py",
   "mimetype": "text/x-python",
   "name": "python",
   "nbconvert_exporter": "python",
   "pygments_lexer": "ipython3",
   "version": "3.10.10"
  },
  "orig_nbformat": 4,
  "vscode": {
   "interpreter": {
    "hash": "f6efb68e5626782308502265d6832aea8134bed63aa8602a8419ceff004935fd"
   }
  }
 },
 "nbformat": 4,
 "nbformat_minor": 2
}
