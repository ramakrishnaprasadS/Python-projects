{
 "cells": [
  {
   "cell_type": "code",
   "execution_count": 2,
   "metadata": {},
   "outputs": [],
   "source": [
    "import pandas as pd\n",
    "import matplotlib.pyplot as plt"
   ]
  },
  {
   "cell_type": "code",
   "execution_count": 3,
   "metadata": {},
   "outputs": [],
   "source": [
    "# Problem Statement1 --filtering relevant columns from census_2011.csv\n",
    "cendf=pd.read_csv(\"Data/census_2011.csv\",usecols=[\"State name\",\"District name\",\"Population\",\"Male\",\"Female\",\"Literate\",\"Male_Literate\",\"Female_Literate\",\"Rural_Households\",\"Urban_Households\",\"Households\",\"Age_Group_0_29\",\"Age_Group_30_49\",\"Age_Group_50\",\"Age not stated\"])\n"
   ]
  },
  {
   "cell_type": "code",
   "execution_count": 4,
   "metadata": {},
   "outputs": [
    {
     "data": {
      "text/html": [
       "<div>\n",
       "<style scoped>\n",
       "    .dataframe tbody tr th:only-of-type {\n",
       "        vertical-align: middle;\n",
       "    }\n",
       "\n",
       "    .dataframe tbody tr th {\n",
       "        vertical-align: top;\n",
       "    }\n",
       "\n",
       "    .dataframe thead th {\n",
       "        text-align: right;\n",
       "    }\n",
       "</style>\n",
       "<table border=\"1\" class=\"dataframe\">\n",
       "  <thead>\n",
       "    <tr style=\"text-align: right;\">\n",
       "      <th></th>\n",
       "      <th>State/UT</th>\n",
       "      <th>District</th>\n",
       "      <th>Population</th>\n",
       "      <th>Male</th>\n",
       "      <th>Female</th>\n",
       "      <th>Literate</th>\n",
       "      <th>Literate_Male</th>\n",
       "      <th>Literate_Female</th>\n",
       "      <th>Households_Rural</th>\n",
       "      <th>Urban_Households</th>\n",
       "      <th>Households</th>\n",
       "      <th>Young_and_Adult</th>\n",
       "      <th>Middle_Aged</th>\n",
       "      <th>Senior_Citizen</th>\n",
       "      <th>Age_Not_Stated</th>\n",
       "    </tr>\n",
       "  </thead>\n",
       "  <tbody>\n",
       "    <tr>\n",
       "      <th>0</th>\n",
       "      <td>JAMMU AND KASHMIR</td>\n",
       "      <td>Kupwara</td>\n",
       "      <td>870354.0</td>\n",
       "      <td>474190.0</td>\n",
       "      <td>396164.0</td>\n",
       "      <td>439654.0</td>\n",
       "      <td>282823.0</td>\n",
       "      <td>156831.0</td>\n",
       "      <td>158438.0</td>\n",
       "      <td>NaN</td>\n",
       "      <td>181664.0</td>\n",
       "      <td>600759.0</td>\n",
       "      <td>178435.0</td>\n",
       "      <td>89679.0</td>\n",
       "      <td>1481.0</td>\n",
       "    </tr>\n",
       "    <tr>\n",
       "      <th>1</th>\n",
       "      <td>JAMMU AND KASHMIR</td>\n",
       "      <td>Badgam</td>\n",
       "      <td>753745.0</td>\n",
       "      <td>NaN</td>\n",
       "      <td>355704.0</td>\n",
       "      <td>335649.0</td>\n",
       "      <td>207741.0</td>\n",
       "      <td>127908.0</td>\n",
       "      <td>160649.0</td>\n",
       "      <td>27190.0</td>\n",
       "      <td>187839.0</td>\n",
       "      <td>503223.0</td>\n",
       "      <td>160933.0</td>\n",
       "      <td>88978.0</td>\n",
       "      <td>611.0</td>\n",
       "    </tr>\n",
       "    <tr>\n",
       "      <th>2</th>\n",
       "      <td>JAMMU AND KASHMIR</td>\n",
       "      <td>Leh(Ladakh)</td>\n",
       "      <td>133487.0</td>\n",
       "      <td>78971.0</td>\n",
       "      <td>54516.0</td>\n",
       "      <td>93770.0</td>\n",
       "      <td>62834.0</td>\n",
       "      <td>30936.0</td>\n",
       "      <td>36920.0</td>\n",
       "      <td>17474.0</td>\n",
       "      <td>54394.0</td>\n",
       "      <td>70703.0</td>\n",
       "      <td>41515.0</td>\n",
       "      <td>NaN</td>\n",
       "      <td>250.0</td>\n",
       "    </tr>\n",
       "  </tbody>\n",
       "</table>\n",
       "</div>"
      ],
      "text/plain": [
       "            State/UT     District  Population      Male    Female  Literate  \\\n",
       "0  JAMMU AND KASHMIR      Kupwara    870354.0  474190.0  396164.0  439654.0   \n",
       "1  JAMMU AND KASHMIR       Badgam    753745.0       NaN  355704.0  335649.0   \n",
       "2  JAMMU AND KASHMIR  Leh(Ladakh)    133487.0   78971.0   54516.0   93770.0   \n",
       "\n",
       "   Literate_Male  Literate_Female  Households_Rural  Urban_Households  \\\n",
       "0       282823.0         156831.0          158438.0               NaN   \n",
       "1       207741.0         127908.0          160649.0           27190.0   \n",
       "2        62834.0          30936.0           36920.0           17474.0   \n",
       "\n",
       "   Households  Young_and_Adult  Middle_Aged  Senior_Citizen  Age_Not_Stated  \n",
       "0    181664.0         600759.0     178435.0         89679.0          1481.0  \n",
       "1    187839.0         503223.0     160933.0         88978.0           611.0  \n",
       "2     54394.0          70703.0      41515.0             NaN           250.0  "
      ]
     },
     "execution_count": 4,
     "metadata": {},
     "output_type": "execute_result"
    }
   ],
   "source": [
    "# Problem Statement 2: (Rename the Column names)\n",
    "\n",
    "cendf=cendf.rename(columns={\"State name\":\"State/UT\",\"District name\":\"District\",\"Male_Literate\":\"Literate_Male\",\"Female_Literate\":\"Literate_Female\",\"Rural_Households\":\"Households_Rural\",\"Urban_ Households\":\"Households_Urban\",\"Age_Group_0_29\":\"Young_and_Adult\",\"Age_Group_30_49\":\"Middle_Aged\",\"Age_Group_50\":\"Senior_Citizen\",\"Age not stated\":\"Age_Not_Stated\"})\n",
    "cendf.head(3)"
   ]
  },
  {
   "cell_type": "code",
   "execution_count": 5,
   "metadata": {},
   "outputs": [],
   "source": [
    "#Problem Statement 3: (Rename State/UT Names)\n",
    "def conv(name):\n",
    "    op=[]\n",
    "    for word in name.split():\n",
    "        if word.lower()=='and':\n",
    "            op.append(word.lower())\n",
    "        else:\n",
    "            op.append(word.capitalize())\n",
    "    return \" \".join(op)\n",
    "cendf['State/UT']=cendf['State/UT'].apply(conv)\n"
   ]
  },
  {
   "cell_type": "code",
   "execution_count": 6,
   "metadata": {},
   "outputs": [
    {
     "data": {
      "text/plain": [
       "0    Jammu and Kashmir\n",
       "1    Jammu and Kashmir\n",
       "2    Jammu and Kashmir\n",
       "3    Jammu and Kashmir\n",
       "4    Jammu and Kashmir\n",
       "Name: State/UT, dtype: object"
      ]
     },
     "execution_count": 6,
     "metadata": {},
     "output_type": "execute_result"
    }
   ],
   "source": [
    "cendf['State/UT'].head(5)"
   ]
  },
  {
   "cell_type": "code",
   "execution_count": 7,
   "metadata": {},
   "outputs": [
    {
     "name": "stdout",
     "output_type": "stream",
     "text": [
      "['Adilabad', 'Nizamabad', 'Karimnagar', 'Medak', 'Hyderabad', 'Rangareddy', 'Mahbubnagar', 'Nalgonda', 'Warangal', 'Khammam']\n"
     ]
    }
   ],
   "source": [
    "#Problem Statement 4: (New State/UT formation)\n",
    "with open('Data/Telangana.txt','r') as file:\n",
    "    tdist=list(file.readlines())\n",
    "tsdist=[]\n",
    "for each in tdist:\n",
    "    tsdist.append(each.replace('\\n',''))\n",
    "print(tsdist)"
   ]
  },
  {
   "cell_type": "code",
   "execution_count": 8,
   "metadata": {},
   "outputs": [
    {
     "data": {
      "text/plain": [
       "Uttar Pradesh                  71\n",
       "Madhya Pradesh                 50\n",
       "Bihar                          38\n",
       "Maharashtra                    35\n",
       "Rajasthan                      33\n",
       "Tamil Nadu                     32\n",
       "Karnataka                      30\n",
       "Orissa                         30\n",
       "Assam                          27\n",
       "Gujarat                        26\n",
       "Jharkhand                      24\n",
       "Jammu and Kashmir              22\n",
       "Haryana                        21\n",
       "Punjab                         20\n",
       "West Bengal                    19\n",
       "Chhattisgarh                   18\n",
       "Arunachal Pradesh              16\n",
       "Kerala                         14\n",
       "Andhra Pradesh                 13\n",
       "Uttarakhand                    13\n",
       "Himachal Pradesh               12\n",
       "Nagaland                       11\n",
       "Telanagana                     10\n",
       "Manipur                         9\n",
       "Nct Of Delhi                    9\n",
       "Mizoram                         8\n",
       "Meghalaya                       7\n",
       "Tripura                         4\n",
       "Sikkim                          4\n",
       "Pondicherry                     4\n",
       "Andaman and Nicobar Islands     3\n",
       "Goa                             2\n",
       "Daman and Diu                   2\n",
       "Lakshadweep                     1\n",
       "Chandigarh                      1\n",
       "Dadra and Nagar Haveli          1\n",
       "Name: State/UT, dtype: int64"
      ]
     },
     "execution_count": 8,
     "metadata": {},
     "output_type": "execute_result"
    }
   ],
   "source": [
    "cendf['State/UT']=cendf.apply(lambda x: 'Telanagana' if x['District'] in tsdist else x['State/UT'],axis=1 )\n",
    "cendf['State/UT'].value_counts()"
   ]
  },
  {
   "cell_type": "code",
   "execution_count": 9,
   "metadata": {},
   "outputs": [
    {
     "data": {
      "text/plain": [
       "Uttar Pradesh                  71\n",
       "Madhya Pradesh                 50\n",
       "Bihar                          38\n",
       "Maharashtra                    35\n",
       "Rajasthan                      33\n",
       "Tamil Nadu                     32\n",
       "Karnataka                      30\n",
       "Orissa                         30\n",
       "Assam                          27\n",
       "Gujarat                        26\n",
       "Jharkhand                      24\n",
       "Haryana                        21\n",
       "Jammu and Kashmir              20\n",
       "Punjab                         20\n",
       "West Bengal                    19\n",
       "Chhattisgarh                   18\n",
       "Arunachal Pradesh              16\n",
       "Kerala                         14\n",
       "Andhra Pradesh                 13\n",
       "Uttarakhand                    13\n",
       "Himachal Pradesh               12\n",
       "Nagaland                       11\n",
       "Telanagana                     10\n",
       "Nct Of Delhi                    9\n",
       "Manipur                         9\n",
       "Mizoram                         8\n",
       "Meghalaya                       7\n",
       "Pondicherry                     4\n",
       "Tripura                         4\n",
       "Sikkim                          4\n",
       "Andaman and Nicobar Islands     3\n",
       "Goa                             2\n",
       "Laddakh                         2\n",
       "Daman and Diu                   2\n",
       "Lakshadweep                     1\n",
       "Chandigarh                      1\n",
       "Dadra and Nagar Haveli          1\n",
       "Name: State/UT, dtype: int64"
      ]
     },
     "execution_count": 9,
     "metadata": {},
     "output_type": "execute_result"
    }
   ],
   "source": [
    "cendf['State/UT']=cendf.apply(lambda x: 'Laddakh' if x['District'] in ['Leh(Ladakh)','Kargil'] else x['State/UT'],axis=1 )\n",
    "cendf['State/UT'].value_counts()"
   ]
  },
  {
   "cell_type": "code",
   "execution_count": 10,
   "metadata": {},
   "outputs": [
    {
     "data": {
      "text/html": [
       "<div>\n",
       "<style scoped>\n",
       "    .dataframe tbody tr th:only-of-type {\n",
       "        vertical-align: middle;\n",
       "    }\n",
       "\n",
       "    .dataframe tbody tr th {\n",
       "        vertical-align: top;\n",
       "    }\n",
       "\n",
       "    .dataframe thead th {\n",
       "        text-align: right;\n",
       "    }\n",
       "</style>\n",
       "<table border=\"1\" class=\"dataframe\">\n",
       "  <thead>\n",
       "    <tr style=\"text-align: right;\">\n",
       "      <th></th>\n",
       "      <th>State/UT</th>\n",
       "      <th>District</th>\n",
       "      <th>Population</th>\n",
       "      <th>Male</th>\n",
       "      <th>Female</th>\n",
       "      <th>Literate</th>\n",
       "      <th>Literate_Male</th>\n",
       "      <th>Literate_Female</th>\n",
       "      <th>Households_Rural</th>\n",
       "      <th>Urban_Households</th>\n",
       "      <th>Households</th>\n",
       "      <th>Young_and_Adult</th>\n",
       "      <th>Middle_Aged</th>\n",
       "      <th>Senior_Citizen</th>\n",
       "      <th>Age_Not_Stated</th>\n",
       "    </tr>\n",
       "  </thead>\n",
       "  <tbody>\n",
       "    <tr>\n",
       "      <th>2</th>\n",
       "      <td>Laddakh</td>\n",
       "      <td>Leh(Ladakh)</td>\n",
       "      <td>133487.0</td>\n",
       "      <td>78971.0</td>\n",
       "      <td>54516.0</td>\n",
       "      <td>93770.0</td>\n",
       "      <td>62834.0</td>\n",
       "      <td>30936.0</td>\n",
       "      <td>36920.0</td>\n",
       "      <td>17474.0</td>\n",
       "      <td>54394.0</td>\n",
       "      <td>70703.0</td>\n",
       "      <td>41515.0</td>\n",
       "      <td>NaN</td>\n",
       "      <td>250.0</td>\n",
       "    </tr>\n",
       "    <tr>\n",
       "      <th>3</th>\n",
       "      <td>Laddakh</td>\n",
       "      <td>Kargil</td>\n",
       "      <td>140802.0</td>\n",
       "      <td>NaN</td>\n",
       "      <td>63017.0</td>\n",
       "      <td>NaN</td>\n",
       "      <td>56301.0</td>\n",
       "      <td>29935.0</td>\n",
       "      <td>40370.0</td>\n",
       "      <td>7774.0</td>\n",
       "      <td>48144.0</td>\n",
       "      <td>87532.0</td>\n",
       "      <td>35561.0</td>\n",
       "      <td>17488.0</td>\n",
       "      <td>221.0</td>\n",
       "    </tr>\n",
       "  </tbody>\n",
       "</table>\n",
       "</div>"
      ],
      "text/plain": [
       "  State/UT     District  Population     Male   Female  Literate  \\\n",
       "2  Laddakh  Leh(Ladakh)    133487.0  78971.0  54516.0   93770.0   \n",
       "3  Laddakh       Kargil    140802.0      NaN  63017.0       NaN   \n",
       "\n",
       "   Literate_Male  Literate_Female  Households_Rural  Urban_Households  \\\n",
       "2        62834.0          30936.0           36920.0           17474.0   \n",
       "3        56301.0          29935.0           40370.0            7774.0   \n",
       "\n",
       "   Households  Young_and_Adult  Middle_Aged  Senior_Citizen  Age_Not_Stated  \n",
       "2     54394.0          70703.0      41515.0             NaN           250.0  \n",
       "3     48144.0          87532.0      35561.0         17488.0           221.0  "
      ]
     },
     "execution_count": 10,
     "metadata": {},
     "output_type": "execute_result"
    }
   ],
   "source": [
    "#Problem Statement 5: (Find and process Missing Data)\n",
    "cendf[cendf['State/UT']==\"Laddakh\"]"
   ]
  },
  {
   "cell_type": "code",
   "execution_count": 11,
   "metadata": {},
   "outputs": [
    {
     "name": "stdout",
     "output_type": "stream",
     "text": [
      "<class 'pandas.core.frame.DataFrame'>\n",
      "RangeIndex: 640 entries, 0 to 639\n",
      "Data columns (total 15 columns):\n",
      " #   Column            Non-Null Count  Dtype  \n",
      "---  ------            --------------  -----  \n",
      " 0   State/UT          640 non-null    object \n",
      " 1   District          640 non-null    object \n",
      " 2   Population        610 non-null    float64\n",
      " 3   Male              610 non-null    float64\n",
      " 4   Female            607 non-null    float64\n",
      " 5   Literate          604 non-null    float64\n",
      " 6   Literate_Male     609 non-null    float64\n",
      " 7   Literate_Female   613 non-null    float64\n",
      " 8   Households_Rural  598 non-null    float64\n",
      " 9   Urban_Households  607 non-null    float64\n",
      " 10  Households        608 non-null    float64\n",
      " 11  Young_and_Adult   609 non-null    float64\n",
      " 12  Middle_Aged       610 non-null    float64\n",
      " 13  Senior_Citizen    609 non-null    float64\n",
      " 14  Age_Not_Stated    605 non-null    float64\n",
      "dtypes: float64(13), object(2)\n",
      "memory usage: 75.1+ KB\n"
     ]
    }
   ],
   "source": [
    "#Problem Statement 5: (Find and process Missing Data)\n",
    "cendf.info()"
   ]
  },
  {
   "cell_type": "code",
   "execution_count": 12,
   "metadata": {},
   "outputs": [
    {
     "data": {
      "text/plain": [
       "State/UT             0\n",
       "District             0\n",
       "Population          30\n",
       "Male                30\n",
       "Female              33\n",
       "Literate            36\n",
       "Literate_Male       31\n",
       "Literate_Female     27\n",
       "Households_Rural    42\n",
       "Urban_Households    33\n",
       "Households          32\n",
       "Young_and_Adult     31\n",
       "Middle_Aged         30\n",
       "Senior_Citizen      31\n",
       "Age_Not_Stated      35\n",
       "dtype: int64"
      ]
     },
     "execution_count": 12,
     "metadata": {},
     "output_type": "execute_result"
    }
   ],
   "source": [
    "cendf.isnull().sum()"
   ]
  },
  {
   "cell_type": "code",
   "execution_count": 13,
   "metadata": {},
   "outputs": [],
   "source": [
    "total_nulls_before_fill=cendf.isnull().sum().sum()"
   ]
  },
  {
   "cell_type": "code",
   "execution_count": 14,
   "metadata": {},
   "outputs": [
    {
     "data": {
      "text/plain": [
       "{'State/UT': 0.0,\n",
       " 'District': 0.0,\n",
       " 'Population': 4.6875,\n",
       " 'Male': 4.6875,\n",
       " 'Female': 5.15625,\n",
       " 'Literate': 5.625,\n",
       " 'Literate_Male': 4.84375,\n",
       " 'Literate_Female': 4.21875,\n",
       " 'Households_Rural': 6.5625,\n",
       " 'Urban_Households': 5.15625,\n",
       " 'Households': 5.0,\n",
       " 'Young_and_Adult': 4.84375,\n",
       " 'Middle_Aged': 4.6875,\n",
       " 'Senior_Citizen': 4.84375,\n",
       " 'Age_Not_Stated': 5.46875}"
      ]
     },
     "execution_count": 14,
     "metadata": {},
     "output_type": "execute_result"
    }
   ],
   "source": [
    "null_val_percent={cendf.columns[col]:(val/640)*100 for col,val in enumerate(cendf.isnull().sum())}\n",
    "null_val_percent"
   ]
  },
  {
   "cell_type": "code",
   "execution_count": 15,
   "metadata": {},
   "outputs": [],
   "source": [
    "# Population = Male + Female\n",
    "# Literate = Literate_Male + Literate_Female\n",
    "# Population = Young_and_Adult+ Middle_Aged + Senior_Citizen + Age_Not_Stated\n",
    "# Households = Households_Rural + Households_Urban\n"
   ]
  },
  {
   "cell_type": "code",
   "execution_count": 16,
   "metadata": {},
   "outputs": [
    {
     "data": {
      "text/plain": [
       "0"
      ]
     },
     "execution_count": 16,
     "metadata": {},
     "output_type": "execute_result"
    }
   ],
   "source": [
    "#Population = Male + female\n",
    "df=cendf.fillna(0)\n",
    "cendf['Population'] = df.apply(lambda x : x['Population'] if x['Population'] else x['Male']+x['Female'],axis=1)\n",
    "cendf['Population'].isna().sum()"
   ]
  },
  {
   "cell_type": "code",
   "execution_count": 17,
   "metadata": {},
   "outputs": [
    {
     "data": {
      "text/plain": [
       "0"
      ]
     },
     "execution_count": 17,
     "metadata": {},
     "output_type": "execute_result"
    }
   ],
   "source": [
    "# Literate = Literate_Male + Literate_Female\n",
    "cendf['Literate'] = df.apply(lambda x : x['Literate'] if x['Literate'] else x['Literate_Male']+x['Literate_Female'],axis=1)\n",
    "cendf['Literate'].isna().sum()"
   ]
  },
  {
   "cell_type": "code",
   "execution_count": 18,
   "metadata": {},
   "outputs": [
    {
     "data": {
      "text/plain": [
       "0"
      ]
     },
     "execution_count": 18,
     "metadata": {},
     "output_type": "execute_result"
    }
   ],
   "source": [
    "# Households = Households_Rural + Households_Urban\n",
    "cendf['Households'] = df.apply(lambda x : x['Households'] if x['Households'] else x['Households_Rural']+x['Urban_Households'],axis=1)\n",
    "cendf['Households'].isna().sum()"
   ]
  },
  {
   "cell_type": "code",
   "execution_count": 19,
   "metadata": {},
   "outputs": [
    {
     "name": "stdout",
     "output_type": "stream",
     "text": [
      "<class 'pandas.core.frame.DataFrame'>\n",
      "RangeIndex: 640 entries, 0 to 639\n",
      "Data columns (total 15 columns):\n",
      " #   Column            Non-Null Count  Dtype  \n",
      "---  ------            --------------  -----  \n",
      " 0   State/UT          640 non-null    object \n",
      " 1   District          640 non-null    object \n",
      " 2   Population        640 non-null    float64\n",
      " 3   Male              610 non-null    float64\n",
      " 4   Female            607 non-null    float64\n",
      " 5   Literate          640 non-null    float64\n",
      " 6   Literate_Male     609 non-null    float64\n",
      " 7   Literate_Female   613 non-null    float64\n",
      " 8   Households_Rural  598 non-null    float64\n",
      " 9   Urban_Households  607 non-null    float64\n",
      " 10  Households        640 non-null    float64\n",
      " 11  Young_and_Adult   609 non-null    float64\n",
      " 12  Middle_Aged       610 non-null    float64\n",
      " 13  Senior_Citizen    609 non-null    float64\n",
      " 14  Age_Not_Stated    605 non-null    float64\n",
      "dtypes: float64(13), object(2)\n",
      "memory usage: 75.1+ KB\n"
     ]
    }
   ],
   "source": [
    "cendf.info()"
   ]
  },
  {
   "cell_type": "code",
   "execution_count": 20,
   "metadata": {},
   "outputs": [
    {
     "data": {
      "text/plain": [
       "323"
      ]
     },
     "execution_count": 20,
     "metadata": {},
     "output_type": "execute_result"
    }
   ],
   "source": [
    "total_nulls_after_fill=cendf.isna().sum().sum()\n",
    "total_nulls_after_fill"
   ]
  },
  {
   "cell_type": "code",
   "execution_count": 21,
   "metadata": {},
   "outputs": [
    {
     "data": {
      "image/png": "[encoded data removed]",
      "text/plain": [
       "<Figure size 640x480 with 1 Axes>"
      ]
     },
     "metadata": {},
     "output_type": "display_data"
    }
   ],
   "source": [
    "plt.bar([\"data to before filling nulls\",\"data to after filling nulls\"],[total_nulls_before_fill,total_nulls_after_fill])\n",
    "plt.title(\"Missing Data comparsion\")\n",
    "plt.show()"
   ]
  },
  {
   "cell_type": "code",
   "execution_count": 22,
   "metadata": {},
   "outputs": [],
   "source": [
    "#Problem Statement: 6\n",
    "# Save the processed data to a CSV file named “census.csv” in the “Clean_Data” folder.\n",
    "# Extract Information from the housing data along with the census data\n",
    "# Siddhu, from Healthcare Department, has reported that the household data that they have (Data/housing.csv), requires some processing in the context of the census data so that more information can be extracted from it. \n",
    "# Process the housing data and census data to gain some insight.\n",
    "# */"
   ]
  },
  {
   "cell_type": "code",
   "execution_count": 23,
   "metadata": {},
   "outputs": [],
   "source": [
    "# updating the state names in housing data"
   ]
  },
  {
   "cell_type": "code",
   "execution_count": 24,
   "metadata": {},
   "outputs": [
    {
     "data": {
      "text/html": [
       "<div>\n",
       "<style scoped>\n",
       "    .dataframe tbody tr th:only-of-type {\n",
       "        vertical-align: middle;\n",
       "    }\n",
       "\n",
       "    .dataframe tbody tr th {\n",
       "        vertical-align: top;\n",
       "    }\n",
       "\n",
       "    .dataframe thead th {\n",
       "        text-align: right;\n",
       "    }\n",
       "</style>\n",
       "<table border=\"1\" class=\"dataframe\">\n",
       "  <thead>\n",
       "    <tr style=\"text-align: right;\">\n",
       "      <th></th>\n",
       "      <th>State/UT</th>\n",
       "      <th>District</th>\n",
       "      <th>Population</th>\n",
       "      <th>Male</th>\n",
       "      <th>Female</th>\n",
       "      <th>Literate</th>\n",
       "      <th>Literate_Male</th>\n",
       "      <th>Literate_Female</th>\n",
       "      <th>Households_Rural</th>\n",
       "      <th>Urban_Households</th>\n",
       "      <th>Households</th>\n",
       "      <th>Young_and_Adult</th>\n",
       "      <th>Middle_Aged</th>\n",
       "      <th>Senior_Citizen</th>\n",
       "      <th>Age_Not_Stated</th>\n",
       "    </tr>\n",
       "  </thead>\n",
       "  <tbody>\n",
       "    <tr>\n",
       "      <th>0</th>\n",
       "      <td>JAMMU AND KASHMIR</td>\n",
       "      <td>Kupwara</td>\n",
       "      <td>870354.0</td>\n",
       "      <td>474190.0</td>\n",
       "      <td>396164.0</td>\n",
       "      <td>439654.0</td>\n",
       "      <td>282823.0</td>\n",
       "      <td>156831.0</td>\n",
       "      <td>158438.0</td>\n",
       "      <td>NaN</td>\n",
       "      <td>181664.0</td>\n",
       "      <td>600759.0</td>\n",
       "      <td>178435.0</td>\n",
       "      <td>89679.0</td>\n",
       "      <td>1481.0</td>\n",
       "    </tr>\n",
       "    <tr>\n",
       "      <th>1</th>\n",
       "      <td>JAMMU AND KASHMIR</td>\n",
       "      <td>Badgam</td>\n",
       "      <td>753745.0</td>\n",
       "      <td>NaN</td>\n",
       "      <td>355704.0</td>\n",
       "      <td>335649.0</td>\n",
       "      <td>207741.0</td>\n",
       "      <td>127908.0</td>\n",
       "      <td>160649.0</td>\n",
       "      <td>27190.0</td>\n",
       "      <td>187839.0</td>\n",
       "      <td>503223.0</td>\n",
       "      <td>160933.0</td>\n",
       "      <td>88978.0</td>\n",
       "      <td>611.0</td>\n",
       "    </tr>\n",
       "    <tr>\n",
       "      <th>2</th>\n",
       "      <td>LADDAKH</td>\n",
       "      <td>Leh(Ladakh)</td>\n",
       "      <td>133487.0</td>\n",
       "      <td>78971.0</td>\n",
       "      <td>54516.0</td>\n",
       "      <td>93770.0</td>\n",
       "      <td>62834.0</td>\n",
       "      <td>30936.0</td>\n",
       "      <td>36920.0</td>\n",
       "      <td>17474.0</td>\n",
       "      <td>54394.0</td>\n",
       "      <td>70703.0</td>\n",
       "      <td>41515.0</td>\n",
       "      <td>NaN</td>\n",
       "      <td>250.0</td>\n",
       "    </tr>\n",
       "    <tr>\n",
       "      <th>3</th>\n",
       "      <td>LADDAKH</td>\n",
       "      <td>Kargil</td>\n",
       "      <td>140802.0</td>\n",
       "      <td>NaN</td>\n",
       "      <td>63017.0</td>\n",
       "      <td>86236.0</td>\n",
       "      <td>56301.0</td>\n",
       "      <td>29935.0</td>\n",
       "      <td>40370.0</td>\n",
       "      <td>7774.0</td>\n",
       "      <td>48144.0</td>\n",
       "      <td>87532.0</td>\n",
       "      <td>35561.0</td>\n",
       "      <td>17488.0</td>\n",
       "      <td>221.0</td>\n",
       "    </tr>\n",
       "    <tr>\n",
       "      <th>4</th>\n",
       "      <td>JAMMU AND KASHMIR</td>\n",
       "      <td>Punch</td>\n",
       "      <td>476835.0</td>\n",
       "      <td>251899.0</td>\n",
       "      <td>224936.0</td>\n",
       "      <td>261724.0</td>\n",
       "      <td>163333.0</td>\n",
       "      <td>98391.0</td>\n",
       "      <td>132139.0</td>\n",
       "      <td>15269.0</td>\n",
       "      <td>147408.0</td>\n",
       "      <td>304979.0</td>\n",
       "      <td>109818.0</td>\n",
       "      <td>61334.0</td>\n",
       "      <td>704.0</td>\n",
       "    </tr>\n",
       "  </tbody>\n",
       "</table>\n",
       "</div>"
      ],
      "text/plain": [
       "            State/UT     District  Population      Male    Female  Literate  \\\n",
       "0  JAMMU AND KASHMIR      Kupwara    870354.0  474190.0  396164.0  439654.0   \n",
       "1  JAMMU AND KASHMIR       Badgam    753745.0       NaN  355704.0  335649.0   \n",
       "2            LADDAKH  Leh(Ladakh)    133487.0   78971.0   54516.0   93770.0   \n",
       "3            LADDAKH       Kargil    140802.0       NaN   63017.0   86236.0   \n",
       "4  JAMMU AND KASHMIR        Punch    476835.0  251899.0  224936.0  261724.0   \n",
       "\n",
       "   Literate_Male  Literate_Female  Households_Rural  Urban_Households  \\\n",
       "0       282823.0         156831.0          158438.0               NaN   \n",
       "1       207741.0         127908.0          160649.0           27190.0   \n",
       "2        62834.0          30936.0           36920.0           17474.0   \n",
       "3        56301.0          29935.0           40370.0            7774.0   \n",
       "4       163333.0          98391.0          132139.0           15269.0   \n",
       "\n",
       "   Households  Young_and_Adult  Middle_Aged  Senior_Citizen  Age_Not_Stated  \n",
       "0    181664.0         600759.0     178435.0         89679.0          1481.0  \n",
       "1    187839.0         503223.0     160933.0         88978.0           611.0  \n",
       "2     54394.0          70703.0      41515.0             NaN           250.0  \n",
       "3     48144.0          87532.0      35561.0         17488.0           221.0  \n",
       "4    147408.0         304979.0     109818.0         61334.0           704.0  "
      ]
     },
     "execution_count": 24,
     "metadata": {},
     "output_type": "execute_result"
    }
   ],
   "source": [
    "new_names = {'PONDICHERRY': 'PUDUCHERRY', 'ORISSA': 'ODISHA', 'NCT OF DELHI': 'DELHI'}\n",
    "cendf['State/UT'] = cendf['State/UT'].apply(lambda x: new_names[x.upper()] if x.upper() in new_names.keys() else x.upper())\n",
    "cendf.head()"
   ]
  },
  {
   "cell_type": "code",
   "execution_count": 25,
   "metadata": {},
   "outputs": [],
   "source": [
    "# saving the cleaned data\n",
    "cendf.to_csv('CleanData/fine_census.csv',index=False)"
   ]
  },
  {
   "cell_type": "code",
   "execution_count": null,
   "metadata": {},
   "outputs": [],
   "source": []
  }
 ],
 "metadata": {
  "kernelspec": {
   "display_name": "Python 3",
   "language": "python",
   "name": "python3"
  },
  "language_info": {
   "codemirror_mode": {
    "name": "ipython",
    "version": 3
   },
   "file_extension": ".py",
   "mimetype": "text/x-python",
   "name": "python",
   "nbconvert_exporter": "python",
   "pygments_lexer": "ipython3",
   "version": "3.10.10"
  },
  "orig_nbformat": 4,
  "vscode": {
   "interpreter": {
    "hash": "f6efb68e5626782308502265d6832aea8134bed63aa8602a8419ceff004935fd"
   }
  }
 },
 "nbformat": 4,
 "nbformat_minor": 2
}
